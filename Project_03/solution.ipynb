{
 "cells": [
  {
   "cell_type": "markdown",
   "id": "eb6ce9b7e7b641cc",
   "metadata": {},
   "source": [
    "# Project 3: BD Analytics Clustering Project\n",
    "\n",
    "#### Kristjan Lõhmus\n",
    "\n",
    "University of Tartu"
   ]
  },
  {
   "cell_type": "markdown",
   "id": "538fbf705c9831b4",
   "metadata": {},
   "source": [
    "## 1. Preliminaries"
   ]
  },
  {
   "cell_type": "markdown",
   "id": "8d5df670-0ad7-4530-9182-b5eae8aef80d",
   "metadata": {},
   "source": [
    "Got the 'DBLP-Citation-network V10' dataset from https://www.aminer.org/citation. The file was unzipped into a folder called dblp."
   ]
  },
  {
   "cell_type": "code",
   "execution_count": 1,
   "id": "initial_id",
   "metadata": {
    "ExecuteTime": {
     "end_time": "2024-06-01T07:20:35.831740Z",
     "start_time": "2024-06-01T07:20:35.815913Z"
    }
   },
   "outputs": [],
   "source": [
    "from pyspark.sql import SparkSession\n",
    "from pyspark import StorageLevel\n",
    "from pyspark.sql.types import StructType, StructField, StringType, ArrayType, IntegerType"
   ]
  },
  {
   "cell_type": "markdown",
   "id": "639e64fb39d4c0f1",
   "metadata": {},
   "source": [
    "## 2. Read the dataset using Spark"
   ]
  },
  {
   "cell_type": "markdown",
   "id": "41bf8f50-914d-4e91-9bfe-e8a6ef7afd0a",
   "metadata": {},
   "source": [
    "There are some mistakes in the inferred schema. (such as year being long type). So we'll define our own schema structure."
   ]
  },
  {
   "cell_type": "code",
   "execution_count": 2,
   "id": "ed5df61d92806023",
   "metadata": {
    "ExecuteTime": {
     "end_time": "2024-05-31T19:05:31.446899Z",
     "start_time": "2024-05-31T19:05:30.253131Z"
    }
   },
   "outputs": [
    {
     "name": "stdout",
     "output_type": "stream",
     "text": [
      "+--------------------+--------------------+--------------------+----------+--------------------+--------------------+--------------------+----+\n",
      "|            abstract|             authors|                  id|n_citation|          references|               title|               venue|year|\n",
      "+--------------------+--------------------+--------------------+----------+--------------------+--------------------+--------------------+----+\n",
      "|The purpose of th...|[Makoto Satoh, Ry...|00127ee2-cb05-48c...|         0|[51c7e02e-f5ed-43...|Preliminary Desig...|international con...|2013|\n",
      "|This paper descri...|[Gareth Beale, Gr...|001c58d3-26ad-46b...|        50|[10482dd3-4642-41...|A methodology for...|visual analytics ...|2011|\n",
      "|This article appl...|[Altaf Hossain, F...|001c8744-73c4-4b0...|        50|[2d84c0f2-e656-4c...|Comparison of GAR...|pattern recogniti...|2009|\n",
      "|                NULL|[Jea-Bum Park, By...|00338203-9eb3-40c...|         0|[8c78e4b0-632b-42...|Development of Re...|                    |2011|\n",
      "|                NULL|[Giovanna Guerrin...|0040b022-1472-4f7...|         2|                NULL|Reasonig about Se...|                    |1998|\n",
      "+--------------------+--------------------+--------------------+----------+--------------------+--------------------+--------------------+----+\n",
      "only showing top 5 rows\n",
      "\n"
     ]
    }
   ],
   "source": [
    "spark = SparkSession.builder.config(\"spark.executor.cores\", \"4\").config(\"spark.driver.memory\", \"8g\").getOrCreate()\n",
    "spark.catalog.clearCache()\n",
    "schema = StructType([\n",
    "    StructField(\"abstract\", StringType(), True),\n",
    "    StructField(\"authors\", ArrayType(StringType()), True),\n",
    "    StructField(\"id\", StringType(), True),\n",
    "    StructField(\"n_citation\", IntegerType(), True),\n",
    "    StructField(\"references\", ArrayType(StringType()), True),\n",
    "    StructField(\"title\", StringType(), True),\n",
    "    StructField(\"venue\", StringType(), True),\n",
    "    StructField(\"year\", IntegerType(), True)\n",
    "])\n",
    "df = (spark.read\n",
    "             .schema(schema)\n",
    "             .json(\"dblp/dblp-ref-*.json\")\n",
    "            )\n",
    "df.show(5)"
   ]
  },
  {
   "cell_type": "code",
   "execution_count": 3,
   "id": "e3ac636e-eb19-417a-9dfc-b77f41c44189",
   "metadata": {},
   "outputs": [
    {
     "name": "stdout",
     "output_type": "stream",
     "text": [
      "root\n",
      " |-- abstract: string (nullable = true)\n",
      " |-- authors: array (nullable = true)\n",
      " |    |-- element: string (containsNull = true)\n",
      " |-- id: string (nullable = true)\n",
      " |-- n_citation: integer (nullable = true)\n",
      " |-- references: array (nullable = true)\n",
      " |    |-- element: string (containsNull = true)\n",
      " |-- title: string (nullable = true)\n",
      " |-- venue: string (nullable = true)\n",
      " |-- year: integer (nullable = true)\n",
      "\n"
     ]
    }
   ],
   "source": [
    "df.printSchema()"
   ]
  },
  {
   "cell_type": "markdown",
   "id": "bf0987284213fca6",
   "metadata": {},
   "source": [
    "## 3. Do exploratory data analysis to help you extract features"
   ]
  },
  {
   "cell_type": "markdown",
   "id": "3989b97c-3cd0-4274-9800-0cef177a1b7b",
   "metadata": {},
   "source": [
    "1. Basic Overview:"
   ]
  },
  {
   "cell_type": "code",
   "execution_count": 4,
   "id": "9a5cef884f1b2cd4",
   "metadata": {},
   "outputs": [
    {
     "name": "stdout",
     "output_type": "stream",
     "text": [
      "+-------+--------------------+--------------------+------------------+-------------------------------------+--------------------+------------------+\n",
      "|summary|            abstract|                  id|        n_citation|                                title|               venue|              year|\n",
      "+-------+--------------------+--------------------+------------------+-------------------------------------+--------------------+------------------+\n",
      "|  count|             2548532|             3079007|           3079007|                              3079007|             3079007|           3079007|\n",
      "|   mean|                NULL|                NULL|35.220902713114974|                                 NULL|                NULL|2007.7665994263734|\n",
      "| stddev|                NULL|                NULL|157.70065110545153|                                 NULL|                NULL|7.8165384986224415|\n",
      "|    min|\u000e\u000f\u0010\u0010\u0011 \u0012\u0013\u0010\u0014 \u000e\u000f\u0010\u0011 \u0012...|000000b8-7f59-49a...|                 0|                 ! and ? – Storage...|                    |              1936|\n",
      "|    max|𝑘�������-Anonymo...|ffffe1e6-981e-4cf...|             73362|利用雙語學術名詞庫抽取中英字詞互譯...|worst-case execut...|              2018|\n",
      "+-------+--------------------+--------------------+------------------+-------------------------------------+--------------------+------------------+\n",
      "\n"
     ]
    }
   ],
   "source": [
    "df.describe().show()"
   ]
  },
  {
   "cell_type": "markdown",
   "id": "271b24f9-9d30-432b-b980-2e219de310d0",
   "metadata": {},
   "source": [
    "As we can see the number of articles is around 3M.\n",
    "Mean publishing year of the articles is 2007 with earliest published in 1936 and latest in 2018.\n",
    "An average article has 35 citations with the most cited article having 157 citations."
   ]
  },
  {
   "cell_type": "markdown",
   "id": "0b2f0801-0e73-43cf-bf03-e77faad55c0f",
   "metadata": {},
   "source": [
    "2. Missing Values:"
   ]
  },
  {
   "cell_type": "code",
   "execution_count": 5,
   "id": "fe4965e5-2511-4d1b-b912-dcbe3ec2f4ce",
   "metadata": {},
   "outputs": [
    {
     "name": "stdout",
     "output_type": "stream",
     "text": [
      "+--------+-------+---+----------+----------+-----+-----+----+\n",
      "|abstract|authors| id|n_citation|references|title|venue|year|\n",
      "+--------+-------+---+----------+----------+-----+-----+----+\n",
      "|  530475|      4|  0|         0|    362865|    0|    0|   0|\n",
      "+--------+-------+---+----------+----------+-----+-----+----+\n",
      "\n"
     ]
    }
   ],
   "source": [
    "from pyspark.sql.functions import col, sum\n",
    "\n",
    "df.select([sum(col(c).isNull().cast(\"int\")).alias(c) for c in df.columns]).show()"
   ]
  },
  {
   "cell_type": "markdown",
   "id": "9750c59d-27e5-4f26-a0d8-ca235eb8362b",
   "metadata": {},
   "source": [
    "Since the abstract and authors are important columns which we're going to use in our search engine, then it makes sense to remove rows with null values in them"
   ]
  },
  {
   "cell_type": "code",
   "execution_count": 6,
   "id": "3d4ae558-dc16-4c29-9d07-dcc98ef03bf3",
   "metadata": {},
   "outputs": [],
   "source": [
    "# remove rows with missing titles\n",
    "df = df.filter(df.title.isNotNull())"
   ]
  },
  {
   "cell_type": "code",
   "execution_count": 7,
   "id": "257038c0-b4f9-4463-91ea-f60cb982a05a",
   "metadata": {},
   "outputs": [],
   "source": [
    "# remove rows with missing abstract\n",
    "df = df.filter(df.abstract.isNotNull())"
   ]
  },
  {
   "cell_type": "code",
   "execution_count": 8,
   "id": "98c52063-0b63-4149-ba67-fcb02e1ca59e",
   "metadata": {},
   "outputs": [
    {
     "name": "stdout",
     "output_type": "stream",
     "text": [
      "+--------+-------+---+----------+----------+-----+-----+----+\n",
      "|abstract|authors| id|n_citation|references|title|venue|year|\n",
      "+--------+-------+---+----------+----------+-----+-----+----+\n",
      "|       0|      2|  0|         0|    140520|    0|    0|   0|\n",
      "+--------+-------+---+----------+----------+-----+-----+----+\n",
      "\n"
     ]
    }
   ],
   "source": [
    "df.select([sum(col(c).isNull().cast(\"int\")).alias(c) for c in df.columns]).show()"
   ]
  },
  {
   "cell_type": "code",
   "execution_count": 9,
   "id": "db3be75c-d3ea-4e80-97c2-2eace5a03f1a",
   "metadata": {},
   "outputs": [
    {
     "name": "stdout",
     "output_type": "stream",
     "text": [
      "+-------+--------------------+--------------------+------------------+--------------------+--------------------+------------------+\n",
      "|summary|            abstract|                  id|        n_citation|               title|               venue|              year|\n",
      "+-------+--------------------+--------------------+------------------+--------------------+--------------------+------------------+\n",
      "|  count|             2548532|             2548532|           2548532|             2548532|             2548532|           2548532|\n",
      "|   mean|                NULL|                NULL| 38.54193041327321|                NULL|                NULL|2008.0413253590696|\n",
      "| stddev|                NULL|                NULL|166.67614556668246|                NULL|                NULL| 7.323076964669586|\n",
      "|    min|\u000e\u000f\u0010\u0010\u0011 \u0012\u0013\u0010\u0014 \u000e\u000f\u0010\u0011 \u0012...|000000b8-7f59-49a...|                 0|!-Graphs with Tri...|                    |              1949|\n",
      "|    max|𝑘�������-Anonymo...|ffffe1e6-981e-4cf...|             73362|≫MB-Activity Meas...|worst-case execut...|              2018|\n",
      "+-------+--------------------+--------------------+------------------+--------------------+--------------------+------------------+\n",
      "\n"
     ]
    }
   ],
   "source": [
    "df.describe().show()"
   ]
  },
  {
   "cell_type": "markdown",
   "id": "1cb93c69-dc4b-4384-9d29-184e7796aeab",
   "metadata": {},
   "source": [
    "The removal of these rows dropped the rowcount from 3M to 2.5M."
   ]
  },
  {
   "cell_type": "markdown",
   "id": "8f12ccf2-3a11-44a4-bf6a-be0bd4031c8c",
   "metadata": {},
   "source": [
    "3. Value Distribution:"
   ]
  },
  {
   "cell_type": "code",
   "execution_count": 10,
   "id": "7e918ced-7720-44b6-b268-fe70e29b5af2",
   "metadata": {},
   "outputs": [
    {
     "data": {
      "image/png": "[encoded data removed]",
      "text/plain": [
       "<Figure size 1000x600 with 1 Axes>"
      ]
     },
     "metadata": {},
     "output_type": "display_data"
    }
   ],
   "source": [
    "import matplotlib.pyplot as plt\n",
    "\n",
    "# Distribution of 'year'\n",
    "year_data = df.groupBy(\"year\").count().orderBy(\"year\")\n",
    "year_data_pd = year_data.toPandas()\n",
    "plt.figure(figsize=(10, 6))\n",
    "plt.bar(year_data_pd['year'], year_data_pd['count'], color='blue')\n",
    "plt.xlabel('Year')\n",
    "plt.ylabel('Count')\n",
    "plt.title('Distribution of Publications by Year')\n",
    "plt.xticks(rotation=45)\n",
    "plt.grid(axis='y')\n",
    "plt.show()"
   ]
  },
  {
   "cell_type": "markdown",
   "id": "b3ff23ba-c06e-41e7-aa94-f0fa6feb280c",
   "metadata": {},
   "source": [
    "Limiting the number of rows to keep spark from crashing."
   ]
  },
  {
   "cell_type": "code",
   "execution_count": 11,
   "id": "83441119-3061-4d2b-a20e-177bf04ce64d",
   "metadata": {},
   "outputs": [
    {
     "data": {
      "text/plain": [
       "34"
      ]
     },
     "execution_count": 11,
     "metadata": {},
     "output_type": "execute_result"
    }
   ],
   "source": [
    "df.rdd.getNumPartitions()"
   ]
  },
  {
   "cell_type": "code",
   "execution_count": 12,
   "id": "f43e9b8d-b3c5-43a2-8f84-4a3ddc10c429",
   "metadata": {},
   "outputs": [],
   "source": [
    "df = df.limit(200000)"
   ]
  },
  {
   "cell_type": "markdown",
   "id": "e69c2274-ac83-4888-9f69-5d1ecc81b5ee",
   "metadata": {},
   "source": [
    "4. Feature Extraction"
   ]
  },
  {
   "cell_type": "code",
   "execution_count": 13,
   "id": "2ed1b87f-878e-481e-9fcb-52df761cd848",
   "metadata": {},
   "outputs": [
    {
     "data": {
      "text/plain": [
       "DataFrame[id: string, title: string, abstract: string]"
      ]
     },
     "execution_count": 13,
     "metadata": {},
     "output_type": "execute_result"
    }
   ],
   "source": [
    "features_df = df.select(\"id\", \"title\", \"abstract\")\n",
    "features_df = features_df.repartition(4, \"id\")\n",
    "df.unpersist()\n",
    "features_df.persist(StorageLevel.MEMORY_AND_DISK)"
   ]
  },
  {
   "cell_type": "markdown",
   "id": "0e9a8761-a2c4-4c62-a7a5-5a65b55093c9",
   "metadata": {},
   "source": [
    "Since other features aren't going to be used in the search engine then it makes sense to go with title+abstract and id for good measure."
   ]
  },
  {
   "cell_type": "markdown",
   "id": "b07a9c05c84a0e98",
   "metadata": {},
   "source": [
    "## 4. Keep only the English documents"
   ]
  },
  {
   "cell_type": "code",
   "execution_count": 14,
   "id": "a10143b7-e411-4558-9e7d-4dfa59e4092f",
   "metadata": {},
   "outputs": [
    {
     "name": "stdout",
     "output_type": "stream",
     "text": [
      "Requirement already satisfied: langdetect in /opt/conda/lib/python3.11/site-packages (1.0.9)\n",
      "Requirement already satisfied: six in /opt/conda/lib/python3.11/site-packages (from langdetect) (1.16.0)\n"
     ]
    }
   ],
   "source": [
    "!pip install langdetect"
   ]
  },
  {
   "cell_type": "code",
   "execution_count": 15,
   "id": "a42ebfae4a86e7ac",
   "metadata": {},
   "outputs": [
    {
     "name": "stdout",
     "output_type": "stream",
     "text": [
      "+--------------------+--------------------+--------------------+--------------------+--------+\n",
      "|                  id|               title|            abstract|                text|language|\n",
      "+--------------------+--------------------+--------------------+--------------------+--------+\n",
      "|028d37c8-b571-41b...|Automated Object ...|The development o...|Automated Object ...|      en|\n",
      "|03990c4b-45be-491...|Multi-layer topol...|In this paper, we...|Multi-layer topol...|      en|\n",
      "|03dd4db1-3540-4de...|Interval Abstract...|State-space explo...|Interval Abstract...|      en|\n",
      "|04f16960-42b0-4f5...|Learning of abstr...|The acquisition o...|Learning of abstr...|      en|\n",
      "|0a22ed40-c8b3-410...|PIQASso: PIsa Que...|PiQASso is a Ques...|PIQASso: PIsa Que...|      en|\n",
      "+--------------------+--------------------+--------------------+--------------------+--------+\n",
      "only showing top 5 rows\n",
      "\n"
     ]
    }
   ],
   "source": [
    "from langdetect import detect, DetectorFactory\n",
    "from pyspark.sql.functions import udf, concat_ws\n",
    "DetectorFactory.seed = 0\n",
    "\n",
    "def detect_language(text):\n",
    "    try:\n",
    "        return detect(text)\n",
    "    except:\n",
    "        return \"unknown\"\n",
    "features_df = features_df.withColumn(\"text\", concat_ws(\" \", features_df.title, features_df.abstract))\n",
    "language_udf = udf(detect_language, StringType())\n",
    "\n",
    "features_df = features_df.withColumn(\"language\", language_udf(features_df.text))\n",
    "df_english = features_df.filter(features_df.language == \"en\")\n",
    "features_df.unpersist()\n",
    "df_english.persist(StorageLevel.MEMORY_AND_DISK)\n",
    "df_english.show(5)"
   ]
  },
  {
   "cell_type": "markdown",
   "id": "77eecea2b8e9a5fd",
   "metadata": {},
   "source": [
    "## 5. Preprocessing\n",
    "\n",
    "the goal is to clean and preprocess the text to prepare it to represent it in vectors. It is a mandatory step in NLP projects to preprocess the text. You can have a look in this article to explore some of well-known preprocessing steps and find how they can be done in Spark Mlib: https://towardsdatascience.com/nlp-text-preprocessing-a-practical-guide-and-templated80874676e79, required pre-processing"
   ]
  },
  {
   "cell_type": "code",
   "execution_count": 16,
   "id": "ab9972e685254731",
   "metadata": {},
   "outputs": [
    {
     "data": {
      "text/plain": [
       "DataFrame[id: string, title: string, abstract: string, text: string, language: string, words: array<string>]"
      ]
     },
     "execution_count": 16,
     "metadata": {},
     "output_type": "execute_result"
    }
   ],
   "source": [
    "from pyspark.ml.feature import StopWordsRemover, Tokenizer\n",
    "from pyspark.sql.functions import lower, regexp_replace, col\n",
    "\n",
    "df_english = df_english.withColumn(\n",
    "    \"text\", \n",
    "    lower(regexp_replace(\"text\", r'[!()\\[\\]{};:\\'\",<>./?@#$%^&*_~]', \"\"))\n",
    ")\n",
    "tokenizer = Tokenizer(inputCol=\"text\", outputCol=\"words\")\n",
    "df_words = tokenizer.transform(df_english)\n",
    "df_english.unpersist()\n",
    "df_words.persist(StorageLevel.MEMORY_AND_DISK)"
   ]
  },
  {
   "cell_type": "code",
   "execution_count": 17,
   "id": "96dfa1c9-3df8-4f90-95bc-faa8e4f5a9c1",
   "metadata": {},
   "outputs": [
    {
     "name": "stdout",
     "output_type": "stream",
     "text": [
      "+--------------------+--------------------+--------------------+--------------------+--------+--------------------+--------------------+\n",
      "|                  id|               title|            abstract|                text|language|               words|            filtered|\n",
      "+--------------------+--------------------+--------------------+--------------------+--------+--------------------+--------------------+\n",
      "|028d37c8-b571-41b...|Automated Object ...|The development o...|automated object ...|      en|[automated, objec...|[automated, objec...|\n",
      "|03990c4b-45be-491...|Multi-layer topol...|In this paper, we...|multi-layer topol...|      en|[multi-layer, top...|[multi-layer, top...|\n",
      "|03dd4db1-3540-4de...|Interval Abstract...|State-space explo...|interval abstract...|      en|[interval, abstra...|[interval, abstra...|\n",
      "|04f16960-42b0-4f5...|Learning of abstr...|The acquisition o...|learning of abstr...|      en|[learning, of, ab...|[learning, abstra...|\n",
      "|0a22ed40-c8b3-410...|PIQASso: PIsa Que...|PiQASso is a Ques...|piqasso pisa ques...|      en|[piqasso, pisa, q...|[piqasso, pisa, q...|\n",
      "+--------------------+--------------------+--------------------+--------------------+--------+--------------------+--------------------+\n",
      "only showing top 5 rows\n",
      "\n"
     ]
    }
   ],
   "source": [
    "custom_stop_words = ['doi', 'preprint', 'copyright', 'peer', 'reviewed', 'org', 'https', \n",
    "                     'et', 'al', 'author', 'figure', 'rights', 'reserved', 'permission', \n",
    "                     'used', 'using', 'biorxiv', 'medrxiv', 'license', 'fig', 'fig.', \n",
    "                     'al.', 'Elsevier', 'PMC', 'CZI', 'www']\n",
    "\n",
    "remover = StopWordsRemover(inputCol=\"words\", outputCol=\"filtered\").setStopWords(\n",
    "    StopWordsRemover.loadDefaultStopWords(\"english\") + custom_stop_words\n",
    ")\n",
    "df_filtered = remover.transform(df_words)\n",
    "df_words.unpersist()\n",
    "df_filtered.persist(StorageLevel.MEMORY_AND_DISK)\n",
    "df_filtered.show(5)"
   ]
  },
  {
   "cell_type": "markdown",
   "id": "b101cbe1a64e114d",
   "metadata": {},
   "source": [
    "## 6. Vectorization\n",
    "\n",
    "Convert the data into format that can be handled by ML algorithms. You can have a look on https://spark.apache.org/docs/latest/mllib-feature-extraction.html, some useful techniques are:\n",
    "\n",
    "a. TF-IDF: this will convert string-formatted data into a measure of how important each word is to the instance out of the literature as a whole. See, https://www.youtube.com/watch?=hc3DCn8viWs for more details\n",
    "\n",
    "b. Word2vec, https://www.youtube.com/watch?v=3eoX_waysy4\n"
   ]
  },
  {
   "cell_type": "markdown",
   "id": "7bdf255b-414c-4599-a8c1-a258fb2211e3",
   "metadata": {},
   "source": [
    "Word2Vec should be the way to go here since we have lots of data point from it to learn from (more complicated model). But since the model training times out then we'll have to go with TF-IDF."
   ]
  },
  {
   "cell_type": "code",
   "execution_count": 18,
   "id": "c3a445fd3cee642f",
   "metadata": {},
   "outputs": [
    {
     "data": {
      "text/plain": [
       "DataFrame[id: string, title: string, abstract: string, text: string, language: string, words: array<string>, filtered: array<string>, rawFeatures: vector]"
      ]
     },
     "execution_count": 18,
     "metadata": {},
     "output_type": "execute_result"
    }
   ],
   "source": [
    "from pyspark.ml.feature import  HashingTF, IDF\n",
    "\n",
    "hashingTF = HashingTF(inputCol=\"filtered\", outputCol=\"rawFeatures\", numFeatures=10000)\n",
    "tf = hashingTF.transform(df_filtered)\n",
    "df_filtered.unpersist()\n",
    "tf.persist(StorageLevel.MEMORY_AND_DISK)"
   ]
  },
  {
   "cell_type": "code",
   "execution_count": 19,
   "id": "e6685175-32f8-4557-9920-6d5c6e398c0a",
   "metadata": {},
   "outputs": [
    {
     "name": "stdout",
     "output_type": "stream",
     "text": [
      "+--------------------+--------------------+--------------------+--------------------+--------+--------------------+--------------------+--------------------+--------------------+\n",
      "|                  id|               title|            abstract|                text|language|               words|            filtered|         rawFeatures|            features|\n",
      "+--------------------+--------------------+--------------------+--------------------+--------+--------------------+--------------------+--------------------+--------------------+\n",
      "|028d37c8-b571-41b...|Automated Object ...|The development o...|automated object ...|      en|[automated, objec...|[automated, objec...|(10000,[23,32,45,...|(10000,[23,32,45,...|\n",
      "|03990c4b-45be-491...|Multi-layer topol...|In this paper, we...|multi-layer topol...|      en|[multi-layer, top...|[multi-layer, top...|(10000,[274,576,1...|(10000,[274,576,1...|\n",
      "|03dd4db1-3540-4de...|Interval Abstract...|State-space explo...|interval abstract...|      en|[interval, abstra...|[interval, abstra...|(10000,[7,45,322,...|(10000,[7,45,322,...|\n",
      "|04f16960-42b0-4f5...|Learning of abstr...|The acquisition o...|learning of abstr...|      en|[learning, of, ab...|[learning, abstra...|(10000,[42,274,81...|(10000,[42,274,81...|\n",
      "|0a22ed40-c8b3-410...|PIQASso: PIsa Que...|PiQASso is a Ques...|piqasso pisa ques...|      en|[piqasso, pisa, q...|[piqasso, pisa, q...|(10000,[73,207,27...|(10000,[73,207,27...|\n",
      "+--------------------+--------------------+--------------------+--------------------+--------+--------------------+--------------------+--------------------+--------------------+\n",
      "only showing top 5 rows\n",
      "\n"
     ]
    }
   ],
   "source": [
    "idf = IDF(inputCol=\"rawFeatures\", outputCol=\"features\", minDocFreq=1)\n",
    "tfidf_model = idf.fit(tf)\n",
    "tfidf_df = tfidf_model.transform(tf)\n",
    "tf.unpersist()\n",
    "tfidf_df.persist(StorageLevel.MEMORY_AND_DISK)\n",
    "tfidf_df.show(5)"
   ]
  },
  {
   "cell_type": "markdown",
   "id": "f532f6a303cd9496",
   "metadata": {},
   "source": [
    "## 7. Clustering\n",
    "\n",
    "You can try K-means clustering. To determine K, you can run the elbow method. You can use PCA to reduce the dimensions while still keeping 95% of the variance in the data for better performance and hopefully remove some noise/outliers"
   ]
  },
  {
   "cell_type": "markdown",
   "id": "d8d19411-9706-45d5-8885-ad2c26641df3",
   "metadata": {},
   "source": [
    "Sidenote: tried running PCA, but it crashed spark somehow."
   ]
  },
  {
   "cell_type": "code",
   "execution_count": 20,
   "id": "3ea786dcd128217f",
   "metadata": {},
   "outputs": [],
   "source": [
    "from pyspark.ml.clustering import KMeans\n",
    "\n",
    "cost = []\n",
    "for k in range(2, 11):\n",
    "    kmeans = KMeans().setK(k).setSeed(1).setFeaturesCol(\"features\")\n",
    "    model = kmeans.fit(tfidf_df)\n",
    "    cost.append(model.summary.trainingCost)"
   ]
  },
  {
   "cell_type": "code",
   "execution_count": 21,
   "id": "0204b2f2-cd93-4809-8f06-f6d68d0ae46c",
   "metadata": {},
   "outputs": [
    {
     "data": {
      "image/png": "[encoded data removed]",
      "text/plain": [
       "<Figure size 640x480 with 1 Axes>"
      ]
     },
     "metadata": {},
     "output_type": "display_data"
    }
   ],
   "source": [
    "plt.plot(range(2, 11), cost)\n",
    "plt.xlabel('Number of Clusters')\n",
    "plt.ylabel('Cost')\n",
    "plt.title('Elbow Method For Optimal k')\n",
    "plt.show()"
   ]
  },
  {
   "cell_type": "markdown",
   "id": "a06023ac-91d2-4fb1-9569-58174ed6ac84",
   "metadata": {},
   "source": [
    "Based on the plot we can create the model with optimal clusters."
   ]
  },
  {
   "cell_type": "code",
   "execution_count": 22,
   "id": "0a55d6b1-8058-46a7-ab1c-75b8e8185a11",
   "metadata": {},
   "outputs": [
    {
     "name": "stdout",
     "output_type": "stream",
     "text": [
      "+--------------------+--------------------+--------------------+--------------------+--------+--------------------+--------------------+--------------------+--------------------+----------+\n",
      "|                  id|               title|            abstract|                text|language|               words|            filtered|         rawFeatures|            features|prediction|\n",
      "+--------------------+--------------------+--------------------+--------------------+--------+--------------------+--------------------+--------------------+--------------------+----------+\n",
      "|028d37c8-b571-41b...|Automated Object ...|The development o...|automated object ...|      en|[automated, objec...|[automated, objec...|(10000,[23,32,45,...|(10000,[23,32,45,...|         0|\n",
      "|03990c4b-45be-491...|Multi-layer topol...|In this paper, we...|multi-layer topol...|      en|[multi-layer, top...|[multi-layer, top...|(10000,[274,576,1...|(10000,[274,576,1...|         0|\n",
      "|03dd4db1-3540-4de...|Interval Abstract...|State-space explo...|interval abstract...|      en|[interval, abstra...|[interval, abstra...|(10000,[7,45,322,...|(10000,[7,45,322,...|         0|\n",
      "|04f16960-42b0-4f5...|Learning of abstr...|The acquisition o...|learning of abstr...|      en|[learning, of, ab...|[learning, abstra...|(10000,[42,274,81...|(10000,[42,274,81...|         0|\n",
      "|0a22ed40-c8b3-410...|PIQASso: PIsa Que...|PiQASso is a Ques...|piqasso pisa ques...|      en|[piqasso, pisa, q...|[piqasso, pisa, q...|(10000,[73,207,27...|(10000,[73,207,27...|         0|\n",
      "+--------------------+--------------------+--------------------+--------------------+--------+--------------------+--------------------+--------------------+--------------------+----------+\n",
      "only showing top 5 rows\n",
      "\n"
     ]
    }
   ],
   "source": [
    "optimal_k = 4\n",
    "kmeans = KMeans().setK(optimal_k).setSeed(1).setFeaturesCol(\"features\")\n",
    "model = kmeans.fit(tfidf_df)\n",
    "df_clustered = model.transform(tfidf_df)\n",
    "df_clustered.show(5)"
   ]
  },
  {
   "cell_type": "code",
   "execution_count": 23,
   "id": "69c4bb89-4dc9-4a73-8087-ed163b39e774",
   "metadata": {},
   "outputs": [
    {
     "data": {
      "text/plain": [
       "DataFrame[id: string, title: string, abstract: string, text: string, language: string, words: array<string>, filtered: array<string>, rawFeatures: vector, features: vector, prediction: int]"
      ]
     },
     "execution_count": 23,
     "metadata": {},
     "output_type": "execute_result"
    }
   ],
   "source": [
    "tfidf_df.unpersist()\n",
    "df_clustered.persist(StorageLevel.MEMORY_AND_DISK)"
   ]
  },
  {
   "cell_type": "markdown",
   "id": "dfe7d705da50a683",
   "metadata": {},
   "source": [
    "## 8. Search engine\n",
    "\n",
    "You can implement this via a very basic recommender function that takes as input a paper title and N as the top-most N closest papers. You recommend the top-most N based on the most similar (Cosine similarity) papers to the input paper title in the cluster to which it belongs."
   ]
  },
  {
   "cell_type": "code",
   "execution_count": 24,
   "id": "298276a23a308b1e",
   "metadata": {},
   "outputs": [],
   "source": [
    "from pyspark.sql.types import StringType, StructType, StructField, DoubleType\n",
    "\n",
    "def cosine_similarity(v1, v2):\n",
    "    return v1.dot(v2) / (v1.norm(2) * v2.norm(2))\n",
    "\n",
    "def find_similar_papers(title, top_n=5):\n",
    "    query = spark.createDataFrame([(title,)], [\"text\"])\n",
    "    query = tokenizer.transform(query)\n",
    "    query = remover.transform(query)\n",
    "    query = hashingTF.transform(query)\n",
    "    query = tfidf_model.transform(query)\n",
    "    \n",
    "    query_vector = query.select(\"features\").collect()[0][0]\n",
    "    \n",
    "    similarities = df_clustered.rdd.map(lambda row: (row['id'], float(cosine_similarity(row['features'], query_vector))))\n",
    "    \n",
    "    # Define schema for the similarities DataFrame\n",
    "    schema = StructType([\n",
    "        StructField(\"id\", StringType(), True),\n",
    "        StructField(\"similarity\", DoubleType(), True)\n",
    "    ])\n",
    "    \n",
    "    similarities_df = spark.createDataFrame(similarities, schema).orderBy(col(\"similarity\").desc())\n",
    "    \n",
    "    return similarities_df.join(df_english, \"id\").select(\"title\", \"abstract\", \"similarity\").sort('similarity', ascending=False).limit(top_n).toPandas()"
   ]
  },
  {
   "cell_type": "code",
   "execution_count": 25,
   "id": "a1a181c3-b16b-4a1f-97da-4b7003354d9b",
   "metadata": {},
   "outputs": [
    {
     "data": {
      "text/html": [
       "<div>\n",
       "<style scoped>\n",
       "    .dataframe tbody tr th:only-of-type {\n",
       "        vertical-align: middle;\n",
       "    }\n",
       "\n",
       "    .dataframe tbody tr th {\n",
       "        vertical-align: top;\n",
       "    }\n",
       "\n",
       "    .dataframe thead th {\n",
       "        text-align: right;\n",
       "    }\n",
       "</style>\n",
       "<table border=\"1\" class=\"dataframe\">\n",
       "  <thead>\n",
       "    <tr style=\"text-align: right;\">\n",
       "      <th></th>\n",
       "      <th>title</th>\n",
       "      <th>abstract</th>\n",
       "      <th>similarity</th>\n",
       "    </tr>\n",
       "  </thead>\n",
       "  <tbody>\n",
       "    <tr>\n",
       "      <th>0</th>\n",
       "      <td>Research and Pedagogy in Business Analytics: O...</td>\n",
       "      <td>In recent times, business analytics and big da...</td>\n",
       "      <td>0.617416</td>\n",
       "    </tr>\n",
       "    <tr>\n",
       "      <th>1</th>\n",
       "      <td>Visual Analytics in Environmental Research: A ...</td>\n",
       "      <td>Visual analytics approaches bring an innovativ...</td>\n",
       "      <td>0.565010</td>\n",
       "    </tr>\n",
       "    <tr>\n",
       "      <th>2</th>\n",
       "      <td>Designing Visual Analytic Tools for Emergency ...</td>\n",
       "      <td>The Emergency Management Information System EM...</td>\n",
       "      <td>0.538882</td>\n",
       "    </tr>\n",
       "    <tr>\n",
       "      <th>3</th>\n",
       "      <td>Using augmented reality to support situated an...</td>\n",
       "      <td>We draw from the domains of Visual Analytics a...</td>\n",
       "      <td>0.522242</td>\n",
       "    </tr>\n",
       "    <tr>\n",
       "      <th>4</th>\n",
       "      <td>Case Study: A Visual Analytics System, Sapientia</td>\n",
       "      <td>The visual analytics is increasingly drawing a...</td>\n",
       "      <td>0.509435</td>\n",
       "    </tr>\n",
       "  </tbody>\n",
       "</table>\n",
       "</div>"
      ],
      "text/plain": [
       "                                               title  \\\n",
       "0  Research and Pedagogy in Business Analytics: O...   \n",
       "1  Visual Analytics in Environmental Research: A ...   \n",
       "2  Designing Visual Analytic Tools for Emergency ...   \n",
       "3  Using augmented reality to support situated an...   \n",
       "4   Case Study: A Visual Analytics System, Sapientia   \n",
       "\n",
       "                                            abstract  similarity  \n",
       "0  In recent times, business analytics and big da...    0.617416  \n",
       "1  Visual analytics approaches bring an innovativ...    0.565010  \n",
       "2  The Emergency Management Information System EM...    0.538882  \n",
       "3  We draw from the domains of Visual Analytics a...    0.522242  \n",
       "4  The visual analytics is increasingly drawing a...    0.509435  "
      ]
     },
     "execution_count": 25,
     "metadata": {},
     "output_type": "execute_result"
    }
   ],
   "source": [
    "find_similar_papers(\"A methodology for visual analytics\")"
   ]
  }
 ],
 "metadata": {
  "kernelspec": {
   "display_name": "Python 3 (ipykernel)",
   "language": "python",
   "name": "python3"
  },
  "language_info": {
   "codemirror_mode": {
    "name": "ipython",
    "version": 3
   },
   "file_extension": ".py",
   "mimetype": "text/x-python",
   "name": "python",
   "nbconvert_exporter": "python",
   "pygments_lexer": "ipython3",
   "version": "3.11.9"
  }
 },
 "nbformat": 4,
 "nbformat_minor": 5
}
